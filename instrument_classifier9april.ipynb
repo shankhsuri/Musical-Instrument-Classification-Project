{
 "cells": [
  {
   "cell_type": "code",
   "execution_count": 32,
   "metadata": {
    "colab": {
     "base_uri": "https://localhost:8080/"
    },
    "id": "Yi04K6dRa0PH",
    "outputId": "6a6e3842-e5b2-465c-df77-0fe92f953ed4"
   },
   "outputs": [
    {
     "name": "stdout",
     "output_type": "stream",
     "text": [
      "Overwriting app.py\n"
     ]
    }
   ],
   "source": [
    "%%writefile app.py\n",
    "#General\n",
    "import numpy as np\n",
    "import itertools\n",
    "import pandas as pd\n",
    "\n",
    "# System\n",
    "import os, fnmatch\n",
    "import pickle\n",
    "import warnings\n",
    "# Visualization\n",
    "import seaborn #visualization library, must be imported before all other plotting libraries\n",
    "import matplotlib.pyplot as plt\n",
    "\n",
    "# Machine Learning\n",
    "from sklearn.preprocessing import LabelEncoder\n",
    "from sklearn.preprocessing import StandardScaler\n",
    "from sklearn.model_selection import StratifiedShuffleSplit\n",
    "from sklearn.neighbors import KNeighborsClassifier\n",
    "from sklearn.metrics import recall_score, precision_score, accuracy_score\n",
    "from sklearn.metrics import confusion_matrix, f1_score, classification_report\n",
    "\n",
    "# Random Seed\n",
    "from numpy.random import seed\n",
    "seed(1)\n",
    "\n",
    "# Audio\n",
    "import librosa.display, librosa\n",
    "import streamlit as st\n",
    "\n",
    "from urllib.request import urlopen\n",
    "from sklearn.externals import joblib\n",
    "\n",
    "\n",
    "modelknn = pickle.load(open('models/knnmodel.pkl','rb'))\n",
    "modellabel=pickle.load(open('models/labelencoder.pkl','rb'))\n",
    "modelscaler=pickle.load(open('models/scaler.pkl','rb'))\n",
    "\n",
    "PAGE_CONFIG = {\"page_title\":\"StColab.io\",\"page_icon\":\":smiley:\",\"layout\":\"centered\"}\n",
    "st.set_page_config(**PAGE_CONFIG)\n",
    "\n",
    "# Signal Processing Parameters\n",
    "fs = 44100         # Sampling Frequency\n",
    "n_fft = 2048       # length of the FFT window\n",
    "hop_length = 512   # Number of samples between successive frames\n",
    "n_mels = 128       # Number of Mel bands\n",
    "n_mfcc = 13        # Number of MFCCs\n",
    "\n",
    "\n",
    "\n",
    "def get_features(y, sr=fs):\n",
    "    S = librosa.feature.melspectrogram(y, sr=fs, n_mels=n_mels)\n",
    "    mfcc = librosa.feature.mfcc(S=librosa.power_to_db(S), n_mfcc=n_mfcc)\n",
    "    feature_vector = np.mean(mfcc,1)\n",
    "    #feature_vector = (feature_vector-np.mean(feature_vector))/np.std(feature_vector)\n",
    "    return feature_vector\n",
    "\n",
    "\n",
    "            \n",
    "            \n",
    "def main():\n",
    "  menu = [\"Tool\",\"More\"]\n",
    "  \n",
    "  choice = st.sidebar.selectbox('Menu',menu)\n",
    "  if choice == 'Tool':\n",
    "    st.header(\"Music Instrument Classifier\")\n",
    "    st.write(\"A machine learning tool which can detect the instrument class which the audio file belongs to\")\n",
    "    \n",
    "    uploaded_file = st.file_uploader('Upload File',type='wav')\n",
    "    if uploaded_file is not None:\n",
    "        y, sr = librosa.load(uploaded_file, sr=fs)\n",
    "        y/=y.max() #Normalize\n",
    "        feat = get_features(y, sr)\n",
    "        features=modelscaler.transform(feat.reshape(1,-1))\n",
    "        \n",
    "\n",
    "    \n",
    "    if st.button('Generate Result'):\n",
    "      pred=modelknn.predict(features)\n",
    "      st.write(\"The uploaded audio file is from the\",modellabel.inverse_transform(pred)[0],\"instrument class\")\n",
    "            \n",
    "      \n",
    "if __name__ == '__main__':\n",
    "\tmain()\n",
    " "
   ]
  },
  {
   "cell_type": "code",
   "execution_count": 2,
   "metadata": {
    "id": "z4VK19Iu7HVn"
   },
   "outputs": [],
   "source": [
    "#!pip freeze > requirements.txt"
   ]
  },
  {
   "cell_type": "code",
   "execution_count": 10,
   "metadata": {},
   "outputs": [
    {
     "name": "stdout",
     "output_type": "stream",
     "text": [
      "Requirement already satisfied: scikit-learn==0.22.2.post1 in c:\\users\\shankh suri\\anaconda3\\lib\\site-packages (0.22.2.post1)\n",
      "Requirement already satisfied: numpy>=1.11.0 in c:\\users\\shankh suri\\anaconda3\\lib\\site-packages (from scikit-learn==0.22.2.post1) (1.16.5)\n",
      "Requirement already satisfied: joblib>=0.11 in c:\\users\\shankh suri\\appdata\\roaming\\python\\python37\\site-packages (from scikit-learn==0.22.2.post1) (1.0.1)\n",
      "Requirement already satisfied: scipy>=0.17.0 in c:\\users\\shankh suri\\anaconda3\\lib\\site-packages (from scikit-learn==0.22.2.post1) (1.3.1)\n"
     ]
    }
   ],
   "source": [
    "!pip install scikit-learn==0.22.2.post1 --user"
   ]
  }
 ],
 "metadata": {
  "colab": {
   "name": "instrument_classifier9april.ipynb",
   "provenance": []
  },
  "kernelspec": {
   "display_name": "Python 3",
   "language": "python",
   "name": "python3"
  },
  "language_info": {
   "codemirror_mode": {
    "name": "ipython",
    "version": 3
   },
   "file_extension": ".py",
   "mimetype": "text/x-python",
   "name": "python",
   "nbconvert_exporter": "python",
   "pygments_lexer": "ipython3",
   "version": "3.7.4"
  }
 },
 "nbformat": 4,
 "nbformat_minor": 1
}
